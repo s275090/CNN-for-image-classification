{
  "nbformat": 4,
  "nbformat_minor": 0,
  "metadata": {
    "colab": {
      "name": "Homework2-MLDL.ipynb",
      "provenance": [],
      "collapsed_sections": []
    },
    "kernelspec": {
      "name": "python3",
      "display_name": "Python 3"
    },
    "accelerator": "GPU"
  },
  "cells": [
    {
      "cell_type": "markdown",
      "metadata": {
        "id": "c9QcGnGPdX2C",
        "colab_type": "text"
      },
      "source": [
        "\n",
        "**Install requirements**"
      ]
    },
    {
      "cell_type": "code",
      "metadata": {
        "id": "k9O3aM3Tb28q",
        "colab_type": "code",
        "colab": {}
      },
      "source": [
        "#!pip3 install 'torch==1.3.1'\n",
        "#!pip3 install 'torchvision==0.5.0'\n",
        "#!pip3 install 'Pillow-SIMD'\n",
        "#!pip3 install 'tqdm'"
      ],
      "execution_count": 0,
      "outputs": []
    },
    {
      "cell_type": "markdown",
      "metadata": {
        "id": "fo942LMOdlh4",
        "colab_type": "text"
      },
      "source": [
        "**Import libraries**"
      ]
    },
    {
      "cell_type": "code",
      "metadata": {
        "id": "DokFOdD1dJEl",
        "colab_type": "code",
        "colab": {}
      },
      "source": [
        "import os\n",
        "import logging\n",
        "import numpy as np\n",
        "\n",
        "import torch\n",
        "import torch.nn as nn\n",
        "import torch.optim as optim\n",
        "from torch.utils.data import Subset, DataLoader\n",
        "from torch.backends import cudnn\n",
        "from torchvision.datasets import VisionDataset\n",
        "\n",
        "import torchvision\n",
        "from torchvision import transforms\n",
        "from torchvision.models import alexnet, resnet18, vgg16\n",
        "\n",
        "from PIL import Image\n",
        "from tqdm import tqdm\n",
        "\n",
        "from sklearn.model_selection import StratifiedShuffleSplit\n",
        "import matplotlib.pyplot as plt\n",
        "\n",
        "FIG_SIZE = (10, 7)\n",
        "RANDOM_STATE = 42"
      ],
      "execution_count": 0,
      "outputs": []
    },
    {
      "cell_type": "markdown",
      "metadata": {
        "id": "OIDLJuIXK_vh",
        "colab_type": "text"
      },
      "source": [
        "**Set Arguments**"
      ]
    },
    {
      "cell_type": "code",
      "metadata": {
        "id": "d5PkYfqfK_SA",
        "colab_type": "code",
        "colab": {}
      },
      "source": [
        "DEVICE = 'cuda' # 'cuda' or 'cpu'\n",
        "\n",
        "NUM_CLASSES = 102 # 101 + 1: There is am extra Background class that should be removed \n",
        "\n",
        "BATCH_SIZE = 32\n",
        "\n",
        "# BATCH_SIZE = 128\n",
        "# BATCH_SIZE = 256     # Higher batch sizes allows for larger learning rates. An empirical heuristic suggests that, when changing\n",
        "                     # the batch size, learning rate should change by the same factor to have comparable results\n",
        "\n",
        "LR = 1e-2            # The initial Learning Rate\n",
        "MOMENTUM = 0.9       # Hyperparameter for SGD, keep this at 0.9 when using SGD\n",
        "WEIGHT_DECAY = 5e-5  # Regularization, you can keep this at the default\n",
        "\n",
        "NUM_EPOCHS = 30      # Total number of training epochs (iterations over dataset)\n",
        "STEP_SIZE = 15       # How many epochs before decreasing learning rate (if using a step-down policy)\n",
        "GAMMA = 0.1          # Multiplicative factor for learning rate step-down\n",
        "\n",
        "LOG_FREQUENCY = 10"
      ],
      "execution_count": 0,
      "outputs": []
    },
    {
      "cell_type": "markdown",
      "metadata": {
        "id": "9gwii0TBHvzh",
        "colab_type": "text"
      },
      "source": [
        "**Define Data Preprocessing**"
      ]
    },
    {
      "cell_type": "code",
      "metadata": {
        "id": "QUDdw4j2H0Mc",
        "colab_type": "code",
        "colab": {}
      },
      "source": [
        "# Define transforms for training phase\n",
        "train_transform = transforms.Compose([transforms.Resize(256),      # Resizes short size of the PIL image to 256\n",
        "                                      transforms.CenterCrop(224),  # Crops a central square patch of the image\n",
        "                                                                   # 224 because torchvision's AlexNet needs a 224x224 input!\n",
        "                                                                   # Remember this when applying different transformations, otherwise you get an error\n",
        "                                      transforms.ToTensor(), # Turn PIL Image to torch.Tensor\n",
        "                                      transforms.Normalize((0.485, 0.456, 0.406), (0.229, 0.224, 0.225)) # Normalize tensor with ImageNet’s mean and standard deviation\n",
        "                                      #transforms.Normalize((0.5, 0.5, 0.5), (0.5, 0.5, 0.5)) # Normalizes tensor with mean and standard deviation\n",
        "])\n",
        "\n",
        "\n",
        "# One set of preprocessing\n",
        "# train_transform = transforms.Compose([transforms.Resize(256),      # Resizes short size of the PIL image to 256\n",
        "#                                       transforms.CenterCrop(224),  # Crops a central square patch of the image\n",
        "#                                                                    # 224 because torchvision's AlexNet needs a 224x224 input!\n",
        "#                                                                    # Remember this when applying different transformations, otherwise you get an error\n",
        "#                                       transforms.RandomRotation(degrees=25),\n",
        "#                                       transforms.ColorJitter(),\n",
        "#                                       transforms.ToTensor(), # Turn PIL Image to torch.Tensor\n",
        "#                                       transforms.Normalize((0.485, 0.456, 0.406), (0.229, 0.224, 0.225)) # Normalize tensor with ImageNet’s mean and standard deviation\n",
        "# ])\n",
        "\n",
        "# Two set of preprocessing\n",
        "# train_transform = transforms.Compose([transforms.Resize(256),      # Resizes short size of the PIL image to 256\n",
        "#                                       transforms.CenterCrop(224),  # Crops a central square patch of the image\n",
        "#                                                                    # 224 because torchvision's AlexNet needs a 224x224 input!\n",
        "#                                                                    # Remember this when applying different transformations, otherwise you get an error\n",
        "#                                       transforms.RandomPerspective(),\n",
        "#                                       transforms.RandomVerticalFlip(),\n",
        "#                                       transforms.ToTensor(), # Turn PIL Image to torch.Tensor\n",
        "# \n",
        "# ])\n",
        "\n",
        "# Three set of preprocessing\n",
        "# train_transform = transforms.Compose([transforms.Resize(256),      # Resizes short size of the PIL image to 256\n",
        "#                                       transforms.CenterCrop(224),  # Crops a central square patch of the image\n",
        "#                                                                    # 224 because torchvision's AlexNet needs a 224x224 input!\n",
        "#                                                                    # Remember this when applying different transformations, otherwise you get an error\n",
        "#                                       transforms.RandomGrayscale(),\n",
        "#                                       transforms.RandomHorizontalFlip(),\n",
        "#                                       transforms.ToTensor(), # Turn PIL Image to torch.Tensor\n",
        "# \n",
        "# ])\n",
        "\n",
        "\n",
        "# Define transforms for the evaluation phase\n",
        "eval_transform = transforms.Compose([transforms.Resize(256),\n",
        "                                      transforms.CenterCrop(224),\n",
        "                                      transforms.ToTensor(),\n",
        "                                      transforms.Normalize((0.485, 0.456, 0.406), (0.229, 0.224, 0.225)) # Normalize tensor with ImageNet’s mean and standard deviation\n",
        "                                      #transforms.Normalize((0.5, 0.5, 0.5), (0.5, 0.5, 0.5))                                    \n",
        "])"
      ],
      "execution_count": 0,
      "outputs": []
    },
    {
      "cell_type": "code",
      "metadata": {
        "id": "repsJJfSt-uf",
        "colab_type": "code",
        "colab": {}
      },
      "source": [
        "def pil_loader(path):\n",
        "    # open path as file to avoid ResourceWarning (https://github.com/python-pillow/Pillow/issues/835)\n",
        "    with open(path, 'rb') as f:\n",
        "        img = Image.open(f)\n",
        "        return img.convert('RGB')\n",
        "\n",
        "\n",
        "class Caltech(VisionDataset):\n",
        "    def __init__(self, root, split='train', transform=None, target_transform=None):\n",
        "        super(Caltech, self).__init__(root, transform=transform, target_transform=target_transform)\n",
        "\n",
        "        self.split = split # This defines the split you are going to use\n",
        "                           # (split files are called 'train.txt' and 'test.txt')\n",
        "        \n",
        "        split_dir = \"Caltech101/\" + split + \".txt\"\n",
        "        split_txt = np.loadtxt(split_dir, delimiter=\"/\", dtype=np.str)\n",
        "\n",
        "        classes = list(set(split_txt[:,0]))\n",
        "        classes.remove(\"BACKGROUND_Google\")\n",
        "        classes.sort()\n",
        "        class_to_idx = {classes[i]: i for i in range(len(classes))}\n",
        "\n",
        "        samples = []\n",
        "        directory = os.path.expanduser(root)\n",
        "\n",
        "        for target_class, fname in split_txt:\n",
        "          if target_class in class_to_idx:\n",
        "              class_index = class_to_idx[target_class]\n",
        "              target_dir = os.path.join(directory, target_class)\n",
        "              \n",
        "              if not os.path.isdir(target_dir):\n",
        "                  continue\n",
        "              \n",
        "              path = os.path.join(target_dir, fname)\n",
        "              item = path, class_index\n",
        "              samples.append(item)      \n",
        "\n",
        "        self.classes = classes\n",
        "        self.class_to_idx = class_to_idx\n",
        "        self.samples = samples            \n",
        "\n",
        "        '''\n",
        "        - Here you should implement the logic for reading the splits files and accessing elements\n",
        "        - If the RAM size allows it, it is faster to store all data in memory\n",
        "        - PyTorch Dataset classes use indexes to read elements\n",
        "        - You should provide a way for the __getitem__ method to access the image-label pair\n",
        "          through the index\n",
        "        - Labels should start from 0, so for Caltech you will have lables 0...100 (excluding the background class) \n",
        "        '''\n",
        "\n",
        "    def __getitem__(self, index):\n",
        "        '''\n",
        "        __getitem__ should access an element through its index\n",
        "        Args:\n",
        "            index (int): Index\n",
        "\n",
        "        Returns:\n",
        "            tuple: (sample, target) where target is class_index of the target class.\n",
        "        '''\n",
        "\n",
        "        # image, label = ... # Provide a way to access image and label via index\n",
        "                           # Image should be a PIL Image\n",
        "                           # label can be int\n",
        "\n",
        "        path, label = self.samples[index]\n",
        "        image = pil_loader(path)\n",
        "\n",
        "        # Applies preprocessing when accessing the image\n",
        "        if self.transform is not None:\n",
        "            image = self.transform(image)\n",
        "\n",
        "        return image, label\n",
        "\n",
        "    def __len__(self):\n",
        "        '''\n",
        "        The __len__ method returns the length of the dataset\n",
        "        It is mandatory, as this is used by several other components\n",
        "        '''\n",
        "        length = len(self.samples) # Provide a way to get the length (number of elements) of the dataset\n",
        "        return length\n"
      ],
      "execution_count": 0,
      "outputs": []
    },
    {
      "cell_type": "markdown",
      "metadata": {
        "id": "2qYIHPzYLY7i",
        "colab_type": "text"
      },
      "source": [
        "**Prepare Dataset**"
      ]
    },
    {
      "cell_type": "code",
      "metadata": {
        "id": "QfVq_uDHLbsR",
        "colab_type": "code",
        "outputId": "0d8d3117-07b9-458e-955d-820be47d4eb8",
        "colab": {
          "base_uri": "https://localhost:8080/",
          "height": 68
        }
      },
      "source": [
        "# Clone github repository with data\n",
        "if not os.path.isdir('./Caltech101'):\n",
        "  !git clone https://github.com/MachineLearning2020/Homework2-Caltech101.git\n",
        "  !mv 'Homework2-Caltech101' 'Caltech101'\n",
        "\n",
        "DATA_DIR = 'Caltech101/101_ObjectCategories'\n",
        "\n",
        "# Prepare Pytorch train/test Datasets\n",
        "train_dataset = Caltech(DATA_DIR, split='train',  transform=train_transform)\n",
        "test_dataset = Caltech(DATA_DIR, split='test', transform=eval_transform)\n",
        "\n",
        "s = StratifiedShuffleSplit(n_splits=1, test_size=0.5)\n",
        "train_indexes, val_indexes = next(s.split(np.asarray(train_dataset.samples)[:,0], \n",
        "                                           np.asarray(train_dataset.samples)[:,1]))\n",
        "\n",
        "val_dataset = Subset(train_dataset, val_indexes)\n",
        "train_dataset = Subset(train_dataset, train_indexes)\n",
        "\n",
        "# Check dataset sizes\n",
        "print('Train Dataset: {}'.format(len(train_dataset)))\n",
        "print('Valid Dataset: {}'.format(len(val_dataset)))\n",
        "print('Test Dataset: {}'.format(len(test_dataset)))"
      ],
      "execution_count": 6,
      "outputs": [
        {
          "output_type": "stream",
          "text": [
            "Train Dataset: 2892\n",
            "Valid Dataset: 2892\n",
            "Test Dataset: 2893\n"
          ],
          "name": "stdout"
        }
      ]
    },
    {
      "cell_type": "markdown",
      "metadata": {
        "id": "FYEDQ7Z21ldN",
        "colab_type": "text"
      },
      "source": [
        "**Prepare Dataloaders**"
      ]
    },
    {
      "cell_type": "code",
      "metadata": {
        "id": "VriRw8SI1nle",
        "colab_type": "code",
        "colab": {}
      },
      "source": [
        "# Dataloaders iterate over pytorch datasets and transparently provide useful functions (e.g. parallelization and shuffling)\n",
        "train_dataloader = DataLoader(train_dataset, batch_size=BATCH_SIZE, shuffle=True, num_workers=4, drop_last=True)\n",
        "val_dataloader = DataLoader(val_dataset, batch_size=BATCH_SIZE, shuffle=False, num_workers=4)\n",
        "\n",
        "test_dataloader = DataLoader(test_dataset, batch_size=BATCH_SIZE, shuffle=False, num_workers=4)"
      ],
      "execution_count": 0,
      "outputs": []
    },
    {
      "cell_type": "markdown",
      "metadata": {
        "id": "gbZ1t5Qs2z4j",
        "colab_type": "text"
      },
      "source": [
        "**Prepare Network**"
      ]
    },
    {
      "cell_type": "code",
      "metadata": {
        "id": "exHUjtXa22DN",
        "colab_type": "code",
        "colab": {}
      },
      "source": [
        "# net = alexnet(pretrained=True) # Loading AlexNet model\n",
        "# net = resnet18(pretrained=True) # Loading resnet model\n",
        "net = vgg16(pretrained=True) # Loading resnet model\n",
        "\n",
        "# AlexNet has 1000 output neurons, corresponding to the 1000 ImageNet's classes\n",
        "# We need 101 outputs for Caltech-101\n",
        "\n",
        "net.classifier[6] = nn.Linear(4096, NUM_CLASSES) # nn.Linear in pytorch is a fully connected layer\n",
        "                                                 # The convolutional layer is nn.Conv2d\n",
        "# net.fc = nn.Linear(512, NUM_CLASSES)                                    \n",
        "\n",
        "# We just changed the last layer of AlexNet with a new fully connected layer with 101 outputs\n",
        "# It is strongly suggested to study torchvision.models.alexnet source code"
      ],
      "execution_count": 0,
      "outputs": []
    },
    {
      "cell_type": "code",
      "metadata": {
        "id": "7g2Ll9yYuqNl",
        "colab_type": "code",
        "outputId": "751b3dac-6930-4871-bf6f-92cf16345541",
        "colab": {
          "base_uri": "https://localhost:8080/",
          "height": 782
        }
      },
      "source": [
        "net"
      ],
      "execution_count": 9,
      "outputs": [
        {
          "output_type": "execute_result",
          "data": {
            "text/plain": [
              "VGG(\n",
              "  (features): Sequential(\n",
              "    (0): Conv2d(3, 64, kernel_size=(3, 3), stride=(1, 1), padding=(1, 1))\n",
              "    (1): ReLU(inplace=True)\n",
              "    (2): Conv2d(64, 64, kernel_size=(3, 3), stride=(1, 1), padding=(1, 1))\n",
              "    (3): ReLU(inplace=True)\n",
              "    (4): MaxPool2d(kernel_size=2, stride=2, padding=0, dilation=1, ceil_mode=False)\n",
              "    (5): Conv2d(64, 128, kernel_size=(3, 3), stride=(1, 1), padding=(1, 1))\n",
              "    (6): ReLU(inplace=True)\n",
              "    (7): Conv2d(128, 128, kernel_size=(3, 3), stride=(1, 1), padding=(1, 1))\n",
              "    (8): ReLU(inplace=True)\n",
              "    (9): MaxPool2d(kernel_size=2, stride=2, padding=0, dilation=1, ceil_mode=False)\n",
              "    (10): Conv2d(128, 256, kernel_size=(3, 3), stride=(1, 1), padding=(1, 1))\n",
              "    (11): ReLU(inplace=True)\n",
              "    (12): Conv2d(256, 256, kernel_size=(3, 3), stride=(1, 1), padding=(1, 1))\n",
              "    (13): ReLU(inplace=True)\n",
              "    (14): Conv2d(256, 256, kernel_size=(3, 3), stride=(1, 1), padding=(1, 1))\n",
              "    (15): ReLU(inplace=True)\n",
              "    (16): MaxPool2d(kernel_size=2, stride=2, padding=0, dilation=1, ceil_mode=False)\n",
              "    (17): Conv2d(256, 512, kernel_size=(3, 3), stride=(1, 1), padding=(1, 1))\n",
              "    (18): ReLU(inplace=True)\n",
              "    (19): Conv2d(512, 512, kernel_size=(3, 3), stride=(1, 1), padding=(1, 1))\n",
              "    (20): ReLU(inplace=True)\n",
              "    (21): Conv2d(512, 512, kernel_size=(3, 3), stride=(1, 1), padding=(1, 1))\n",
              "    (22): ReLU(inplace=True)\n",
              "    (23): MaxPool2d(kernel_size=2, stride=2, padding=0, dilation=1, ceil_mode=False)\n",
              "    (24): Conv2d(512, 512, kernel_size=(3, 3), stride=(1, 1), padding=(1, 1))\n",
              "    (25): ReLU(inplace=True)\n",
              "    (26): Conv2d(512, 512, kernel_size=(3, 3), stride=(1, 1), padding=(1, 1))\n",
              "    (27): ReLU(inplace=True)\n",
              "    (28): Conv2d(512, 512, kernel_size=(3, 3), stride=(1, 1), padding=(1, 1))\n",
              "    (29): ReLU(inplace=True)\n",
              "    (30): MaxPool2d(kernel_size=2, stride=2, padding=0, dilation=1, ceil_mode=False)\n",
              "  )\n",
              "  (avgpool): AdaptiveAvgPool2d(output_size=(7, 7))\n",
              "  (classifier): Sequential(\n",
              "    (0): Linear(in_features=25088, out_features=4096, bias=True)\n",
              "    (1): ReLU(inplace=True)\n",
              "    (2): Dropout(p=0.5, inplace=False)\n",
              "    (3): Linear(in_features=4096, out_features=4096, bias=True)\n",
              "    (4): ReLU(inplace=True)\n",
              "    (5): Dropout(p=0.5, inplace=False)\n",
              "    (6): Linear(in_features=4096, out_features=102, bias=True)\n",
              "  )\n",
              ")"
            ]
          },
          "metadata": {
            "tags": []
          },
          "execution_count": 9
        }
      ]
    },
    {
      "cell_type": "markdown",
      "metadata": {
        "id": "KEyL3H_R4qCf",
        "colab_type": "text"
      },
      "source": [
        "**Prepare Training**"
      ]
    },
    {
      "cell_type": "code",
      "metadata": {
        "id": "9sjq00G94tSc",
        "colab_type": "code",
        "colab": {}
      },
      "source": [
        "# Define loss function\n",
        "criterion = nn.CrossEntropyLoss() # for classification, we use Cross Entropy\n",
        "\n",
        "# Choose parameters to optimize\n",
        "# To access a different set of parameters, you have to access submodules of AlexNet\n",
        "# (nn.Module objects, like AlexNet, implement the Composite Pattern)\n",
        "# e.g.: parameters of the fully connected layers: net.classifier.parameters()\n",
        "# e.g.: parameters of the convolutional layers: look at alexnet's source code ;) \n",
        "parameters_to_optimize = net.parameters() # In this case we optimize over all the parameters of AlexNet\n",
        "\n",
        "# parameters_to_optimize = net.classifier.parameters() # In this case we optimize over FC layers\n",
        "# parameters_to_optimize = net.features.parameters() # In this case we optimize over Conv layers\n",
        "\n",
        "# Define optimizer\n",
        "# An optimizer updates the weights based on loss\n",
        "# We use SGD with momentum\n",
        "optimizer = optim.SGD(parameters_to_optimize, lr=LR, momentum=MOMENTUM, weight_decay=WEIGHT_DECAY)\n",
        "\n",
        "# Define scheduler\n",
        "# A scheduler dynamically changes learning rate\n",
        "# The most common schedule is the step(-down), which multiplies learning rate by gamma every STEP_SIZE epochs\n",
        "scheduler = optim.lr_scheduler.StepLR(optimizer, step_size=STEP_SIZE, gamma=GAMMA)"
      ],
      "execution_count": 0,
      "outputs": []
    },
    {
      "cell_type": "markdown",
      "metadata": {
        "id": "AxYUli9d9uYQ",
        "colab_type": "text"
      },
      "source": [
        "**Train**"
      ]
    },
    {
      "cell_type": "code",
      "metadata": {
        "id": "ZcoQ5fD49yT_",
        "colab_type": "code",
        "outputId": "d281f84f-21e9-4187-a2ec-5980285d2b84",
        "colab": {
          "base_uri": "https://localhost:8080/",
          "height": 1000
        }
      },
      "source": [
        "# By default, everything is loaded to cpu\n",
        "net = net.to(DEVICE) # this will bring the network to GPU if DEVICE is cuda\n",
        "best_net = net.state_dict()\n",
        "cudnn.benchmark # Calling this optimizes runtime\n",
        " \n",
        "losses_val = []\n",
        "current_step = 0\n",
        "# Start iterating over the epochs\n",
        "for epoch in range(NUM_EPOCHS):\n",
        "  print('Starting epoch {}/{}, LR = {}'.format(epoch+1, NUM_EPOCHS, scheduler.get_last_lr()))\n",
        " \n",
        "  # Iterate over the dataset\n",
        "  for images, labels in train_dataloader:\n",
        "    # Bring data over the device of choice\n",
        "    images = images.to(DEVICE)\n",
        "    labels = labels.to(DEVICE)\n",
        " \n",
        "    net.train() # Sets module in training mode\n",
        " \n",
        "    # PyTorch, by default, accumulates gradients after each backward pass\n",
        "    # We need to manually set the gradients to zero before starting a new iteration\n",
        "    optimizer.zero_grad() # Zero-ing the gradients\n",
        " \n",
        "    # Forward pass to the network\n",
        "    outputs = net(images)\n",
        " \n",
        "    # Compute loss based on output and ground truth\n",
        "    loss = criterion(outputs, labels)\n",
        " \n",
        "    # Log loss\n",
        "    if current_step % LOG_FREQUENCY == 0:\n",
        "      print('Step {}, Loss {}'.format(current_step, loss.item()))\n",
        " \n",
        "    # Compute gradients for each layer and update weights\n",
        "    loss.backward()  # backward pass: computes gradients\n",
        "    optimizer.step() # update weights based on accumulated gradients\n",
        " \n",
        "    current_step += 1\n",
        " \n",
        "  # Test model on validation test\n",
        "  net.train(False) # Set Network to evaluation mode\n",
        " \n",
        "  running_corrects = 0\n",
        "  loss_val = 0\n",
        "  for images, labels in val_dataloader:\n",
        "    images = images.to(DEVICE)\n",
        "    labels = labels.to(DEVICE)\n",
        " \n",
        "    # Forward Pass\n",
        "    outputs = net(images)\n",
        " \n",
        "    # Get predictions\n",
        "    _, preds = torch.max(outputs.data, 1)\n",
        " \n",
        "    # Compute loss based on output and ground truth\n",
        "    loss_val += criterion(outputs, labels).item()\n",
        " \n",
        "  # Save loss for validation\n",
        "  losses_val.append(loss_val/len(val_dataloader))\n",
        " \n",
        "  if min(losses_val) == loss_val:\n",
        "    best_net = net.state_dict()\n",
        " \n",
        "  # Step the scheduler\n",
        "  scheduler.step()"
      ],
      "execution_count": 11,
      "outputs": [
        {
          "output_type": "stream",
          "text": [
            "Starting epoch 1/30, LR = [0.01]\n",
            "Step 0, Loss 4.775665760040283\n",
            "Step 10, Loss 2.7960875034332275\n",
            "Step 20, Loss 2.680499792098999\n",
            "Step 30, Loss 1.9004571437835693\n",
            "Step 40, Loss 2.46470308303833\n",
            "Step 50, Loss 2.634488105773926\n",
            "Step 60, Loss 2.0292181968688965\n",
            "Step 70, Loss 2.3174662590026855\n",
            "Step 80, Loss 2.133976936340332\n",
            "Starting epoch 2/30, LR = [0.01]\n",
            "Step 90, Loss 2.048888921737671\n",
            "Step 100, Loss 1.9469506740570068\n",
            "Step 110, Loss 1.1477488279342651\n",
            "Step 120, Loss 1.1513066291809082\n",
            "Step 130, Loss 1.6770232915878296\n",
            "Step 140, Loss 1.9214364290237427\n",
            "Step 150, Loss 1.265116810798645\n",
            "Step 160, Loss 1.0703990459442139\n",
            "Step 170, Loss 0.927706241607666\n",
            "Starting epoch 3/30, LR = [0.01]\n",
            "Step 180, Loss 0.48454076051712036\n",
            "Step 190, Loss 0.551345705986023\n",
            "Step 200, Loss 0.7476148009300232\n",
            "Step 210, Loss 0.8530974984169006\n",
            "Step 220, Loss 0.545818030834198\n",
            "Step 230, Loss 0.7330348491668701\n",
            "Step 240, Loss 0.8499718904495239\n",
            "Step 250, Loss 0.7952815294265747\n",
            "Step 260, Loss 0.3139508068561554\n",
            "Starting epoch 4/30, LR = [0.01]\n",
            "Step 270, Loss 1.1690340042114258\n",
            "Step 280, Loss 0.16588281095027924\n",
            "Step 290, Loss 0.5353078842163086\n",
            "Step 300, Loss 0.6583539247512817\n",
            "Step 310, Loss 0.7373203635215759\n",
            "Step 320, Loss 1.1823067665100098\n",
            "Step 330, Loss 1.3905673027038574\n",
            "Step 340, Loss 0.8235964179039001\n",
            "Step 350, Loss 0.5428379774093628\n",
            "Starting epoch 5/30, LR = [0.01]\n",
            "Step 360, Loss 0.6284319162368774\n",
            "Step 370, Loss 0.8663460612297058\n",
            "Step 380, Loss 0.46476560831069946\n",
            "Step 390, Loss 0.6754732131958008\n",
            "Step 400, Loss 1.059352993965149\n",
            "Step 410, Loss 0.8385560512542725\n",
            "Step 420, Loss 0.8095697164535522\n",
            "Step 430, Loss 0.5854147672653198\n",
            "Step 440, Loss 0.5663782358169556\n",
            "Starting epoch 6/30, LR = [0.01]\n",
            "Step 450, Loss 0.2872617840766907\n",
            "Step 460, Loss 0.40531060099601746\n",
            "Step 470, Loss 0.46348607540130615\n",
            "Step 480, Loss 0.21181213855743408\n",
            "Step 490, Loss 0.22752302885055542\n",
            "Step 500, Loss 0.1543772965669632\n",
            "Step 510, Loss 0.7335718870162964\n",
            "Step 520, Loss 0.3090232014656067\n",
            "Step 530, Loss 0.17271317541599274\n",
            "Starting epoch 7/30, LR = [0.01]\n",
            "Step 540, Loss 0.1828848123550415\n",
            "Step 550, Loss 0.24335291981697083\n",
            "Step 560, Loss 0.2622319161891937\n",
            "Step 570, Loss 0.25685811042785645\n",
            "Step 580, Loss 0.3392457365989685\n",
            "Step 590, Loss 0.13450218737125397\n",
            "Step 600, Loss 0.20015250146389008\n",
            "Step 610, Loss 0.22590671479701996\n",
            "Step 620, Loss 0.4794307351112366\n",
            "Starting epoch 8/30, LR = [0.01]\n",
            "Step 630, Loss 0.22956877946853638\n",
            "Step 640, Loss 0.4591628909111023\n",
            "Step 650, Loss 0.30173975229263306\n",
            "Step 660, Loss 0.023664623498916626\n",
            "Step 670, Loss 0.2865946888923645\n",
            "Step 680, Loss 0.2320895791053772\n",
            "Step 690, Loss 0.3455483317375183\n",
            "Step 700, Loss 0.03569692373275757\n",
            "Step 710, Loss 0.10500499606132507\n",
            "Starting epoch 9/30, LR = [0.01]\n",
            "Step 720, Loss 0.11137445271015167\n",
            "Step 730, Loss 0.07854540646076202\n",
            "Step 740, Loss 0.10520331561565399\n",
            "Step 750, Loss 0.0837884396314621\n",
            "Step 760, Loss 0.2073296308517456\n",
            "Step 770, Loss 0.31985947489738464\n",
            "Step 780, Loss 0.11044543981552124\n",
            "Step 790, Loss 0.49873438477516174\n",
            "Step 800, Loss 0.08104133605957031\n",
            "Starting epoch 10/30, LR = [0.01]\n",
            "Step 810, Loss 0.08548569679260254\n",
            "Step 820, Loss 0.0027768611907958984\n",
            "Step 830, Loss 0.1237545907497406\n",
            "Step 840, Loss 0.5778579711914062\n",
            "Step 850, Loss 0.14300774037837982\n",
            "Step 860, Loss 0.1965927630662918\n",
            "Step 870, Loss 0.06693434715270996\n",
            "Step 880, Loss 0.022129535675048828\n",
            "Step 890, Loss 0.10734370350837708\n",
            "Starting epoch 11/30, LR = [0.01]\n",
            "Step 900, Loss 0.015333592891693115\n",
            "Step 910, Loss 0.01930341124534607\n",
            "Step 920, Loss 0.13674962520599365\n",
            "Step 930, Loss 0.08036620914936066\n",
            "Step 940, Loss 0.013348400592803955\n",
            "Step 950, Loss 0.5108447074890137\n",
            "Step 960, Loss 0.09640079736709595\n",
            "Step 970, Loss 0.02931511402130127\n",
            "Step 980, Loss 0.009826213121414185\n",
            "Starting epoch 12/30, LR = [0.01]\n",
            "Step 990, Loss 0.031388819217681885\n",
            "Step 1000, Loss 0.16829849779605865\n",
            "Step 1010, Loss 0.008817344903945923\n",
            "Step 1020, Loss 0.07123178243637085\n",
            "Step 1030, Loss 0.07772946357727051\n",
            "Step 1040, Loss 0.1685117483139038\n",
            "Step 1050, Loss 0.22622574865818024\n",
            "Step 1060, Loss 0.12272785604000092\n",
            "Step 1070, Loss 0.01666325330734253\n",
            "Starting epoch 13/30, LR = [0.01]\n",
            "Step 1080, Loss 0.5903031826019287\n",
            "Step 1090, Loss 0.018952548503875732\n",
            "Step 1100, Loss 0.19186152517795563\n",
            "Step 1110, Loss 0.11643695831298828\n",
            "Step 1120, Loss 0.3033313751220703\n",
            "Step 1130, Loss 0.010213106870651245\n",
            "Step 1140, Loss 0.02261488139629364\n",
            "Step 1150, Loss 0.02507266402244568\n",
            "Step 1160, Loss 0.03258776664733887\n",
            "Starting epoch 14/30, LR = [0.01]\n",
            "Step 1170, Loss 0.0184917151927948\n",
            "Step 1180, Loss 0.017839699983596802\n",
            "Step 1190, Loss 0.059287965297698975\n",
            "Step 1200, Loss 0.0825517326593399\n",
            "Step 1210, Loss 0.01347997784614563\n",
            "Step 1220, Loss 0.04119265079498291\n",
            "Step 1230, Loss 0.15448740124702454\n",
            "Step 1240, Loss 0.18076761066913605\n",
            "Step 1250, Loss 0.010570675134658813\n",
            "Starting epoch 15/30, LR = [0.01]\n",
            "Step 1260, Loss 0.020441144704818726\n",
            "Step 1270, Loss 0.31051138043403625\n",
            "Step 1280, Loss 0.04562494158744812\n",
            "Step 1290, Loss 0.017935574054718018\n",
            "Step 1300, Loss 0.03555941581726074\n",
            "Step 1310, Loss 0.0934372991323471\n",
            "Step 1320, Loss 0.004801750183105469\n",
            "Step 1330, Loss 0.0004451274871826172\n",
            "Step 1340, Loss 0.015279650688171387\n",
            "Starting epoch 16/30, LR = [0.001]\n",
            "Step 1350, Loss 0.00012680888175964355\n",
            "Step 1360, Loss 0.005852490663528442\n",
            "Step 1370, Loss 0.0004432797431945801\n",
            "Step 1380, Loss 0.0034029781818389893\n",
            "Step 1390, Loss 5.263090133666992e-05\n",
            "Step 1400, Loss 0.009924829006195068\n",
            "Step 1410, Loss 0.009909600019454956\n",
            "Step 1420, Loss 0.002090632915496826\n",
            "Step 1430, Loss 6.29127025604248e-05\n",
            "Starting epoch 17/30, LR = [0.001]\n",
            "Step 1440, Loss 0.0006218254566192627\n",
            "Step 1450, Loss 0.007460892200469971\n",
            "Step 1460, Loss 0.0006653368473052979\n",
            "Step 1470, Loss 0.00016570091247558594\n",
            "Step 1480, Loss 0.005911469459533691\n",
            "Step 1490, Loss 0.00037997961044311523\n",
            "Step 1500, Loss 0.0009584724903106689\n",
            "Step 1510, Loss 5.805492401123047e-05\n",
            "Step 1520, Loss 1.6987323760986328e-05\n",
            "Starting epoch 18/30, LR = [0.001]\n",
            "Step 1530, Loss 4.532933235168457e-05\n",
            "Step 1540, Loss 2.002716064453125e-05\n",
            "Step 1550, Loss 8.270144462585449e-05\n",
            "Step 1560, Loss 0.00012564659118652344\n",
            "Step 1570, Loss 0.005221277475357056\n",
            "Step 1580, Loss 0.005385786294937134\n",
            "Step 1590, Loss 0.0011770129203796387\n",
            "Step 1600, Loss 0.001810699701309204\n",
            "Step 1610, Loss 0.002442866563796997\n",
            "Starting epoch 19/30, LR = [0.001]\n",
            "Step 1620, Loss 0.00010210275650024414\n",
            "Step 1630, Loss 0.0003787577152252197\n",
            "Step 1640, Loss 6.362795829772949e-05\n",
            "Step 1650, Loss 1.6570091247558594e-05\n",
            "Step 1660, Loss 2.378225326538086e-05\n",
            "Step 1670, Loss 9.995698928833008e-05\n",
            "Step 1680, Loss 6.377696990966797e-06\n",
            "Step 1690, Loss 0.0024767518043518066\n",
            "Step 1700, Loss 4.938244819641113e-05\n",
            "Starting epoch 20/30, LR = [0.001]\n",
            "Step 1710, Loss 0.00037086009979248047\n",
            "Step 1720, Loss 0.00037413835525512695\n",
            "Step 1730, Loss 0.00010561943054199219\n",
            "Step 1740, Loss 0.0029277801513671875\n",
            "Step 1750, Loss 0.00010177493095397949\n",
            "Step 1760, Loss 0.00027999281883239746\n",
            "Step 1770, Loss 0.00045293569564819336\n",
            "Step 1780, Loss 4.172325134277344e-07\n",
            "Step 1790, Loss 3.8295984268188477e-05\n",
            "Starting epoch 21/30, LR = [0.001]\n",
            "Step 1800, Loss 3.731250762939453e-05\n",
            "Step 1810, Loss 0.00017184019088745117\n",
            "Step 1820, Loss 9.66787338256836e-05\n",
            "Step 1830, Loss 3.069639205932617e-05\n",
            "Step 1840, Loss 0.0001857280731201172\n",
            "Step 1850, Loss 3.263354301452637e-05\n",
            "Step 1860, Loss 0.0001379251480102539\n",
            "Step 1870, Loss 3.2901763916015625e-05\n",
            "Step 1880, Loss 1.6450881958007812e-05\n",
            "Starting epoch 22/30, LR = [0.001]\n",
            "Step 1890, Loss 1.3232231140136719e-05\n",
            "Step 1900, Loss 0.0009098947048187256\n",
            "Step 1910, Loss 0.0001386106014251709\n",
            "Step 1920, Loss 4.652142524719238e-05\n",
            "Step 1930, Loss 0.00014913082122802734\n",
            "Step 1940, Loss 0.0010997951030731201\n",
            "Step 1950, Loss 5.221366882324219e-05\n",
            "Step 1960, Loss 0.008830815553665161\n",
            "Step 1970, Loss 0.0009924769401550293\n",
            "Starting epoch 23/30, LR = [0.001]\n",
            "Step 1980, Loss 0.0010082423686981201\n",
            "Step 1990, Loss 0.000884711742401123\n",
            "Step 2000, Loss 0.00018084049224853516\n",
            "Step 2010, Loss 0.00035446882247924805\n",
            "Step 2020, Loss 0.008794128894805908\n",
            "Step 2030, Loss 8.910894393920898e-05\n",
            "Step 2040, Loss 0.012322038412094116\n",
            "Step 2050, Loss 0.0006560087203979492\n",
            "Step 2060, Loss 1.52587890625e-05\n",
            "Starting epoch 24/30, LR = [0.001]\n",
            "Step 2070, Loss 0.0003262162208557129\n",
            "Step 2080, Loss 0.00011718273162841797\n",
            "Step 2090, Loss 9.47713851928711e-06\n",
            "Step 2100, Loss 0.0006516575813293457\n",
            "Step 2110, Loss 0.008736938238143921\n",
            "Step 2120, Loss 0.00046697258949279785\n",
            "Step 2130, Loss 2.8371810913085938e-05\n",
            "Step 2140, Loss 0.00028395652770996094\n",
            "Step 2150, Loss 0.0031366944313049316\n",
            "Starting epoch 25/30, LR = [0.001]\n",
            "Step 2160, Loss 0.0037471652030944824\n",
            "Step 2170, Loss 8.249282836914062e-05\n",
            "Step 2180, Loss 0.0001272261142730713\n",
            "Step 2190, Loss 0.0003083348274230957\n",
            "Step 2200, Loss 0.0010645687580108643\n",
            "Step 2210, Loss 1.1920928955078125e-06\n",
            "Step 2220, Loss 1.1324882507324219e-06\n",
            "Step 2230, Loss 2.3245811462402344e-05\n",
            "Step 2240, Loss 3.355741500854492e-05\n",
            "Starting epoch 26/30, LR = [0.001]\n",
            "Step 2250, Loss 5.1081180572509766e-05\n",
            "Step 2260, Loss 0.0026644468307495117\n",
            "Step 2270, Loss 1.1086463928222656e-05\n",
            "Step 2280, Loss 0.00039902329444885254\n",
            "Step 2290, Loss 2.586841583251953e-05\n",
            "Step 2300, Loss 6.687641143798828e-05\n",
            "Step 2310, Loss 2.7388334274291992e-05\n",
            "Step 2320, Loss 9.268522262573242e-05\n",
            "Step 2330, Loss 2.0682811737060547e-05\n",
            "Starting epoch 27/30, LR = [0.001]\n",
            "Step 2340, Loss 0.0003655552864074707\n",
            "Step 2350, Loss 2.9146671295166016e-05\n",
            "Step 2360, Loss 0.00015303492546081543\n",
            "Step 2370, Loss 0.001207500696182251\n",
            "Step 2380, Loss 0.00021207332611083984\n",
            "Step 2390, Loss 4.8786401748657227e-05\n",
            "Step 2400, Loss 0.00010949373245239258\n",
            "Step 2410, Loss 4.023313522338867e-05\n",
            "Step 2420, Loss 0.00046393275260925293\n",
            "Starting epoch 28/30, LR = [0.001]\n",
            "Step 2430, Loss 1.3709068298339844e-06\n",
            "Step 2440, Loss 1.5974044799804688e-05\n",
            "Step 2450, Loss 0.0017478466033935547\n",
            "Step 2460, Loss 2.4080276489257812e-05\n",
            "Step 2470, Loss 0.0001201331615447998\n",
            "Step 2480, Loss 2.9474496841430664e-05\n",
            "Step 2490, Loss 9.578466415405273e-05\n",
            "Step 2500, Loss 1.0132789611816406e-05\n",
            "Step 2510, Loss 0.0021063685417175293\n",
            "Starting epoch 29/30, LR = [0.001]\n",
            "Step 2520, Loss 0.00013276934623718262\n",
            "Step 2530, Loss 4.57763671875e-05\n",
            "Step 2540, Loss 0.004531741142272949\n",
            "Step 2550, Loss 0.0002167820930480957\n",
            "Step 2560, Loss 0.0001443624496459961\n",
            "Step 2570, Loss 8.404254913330078e-06\n",
            "Step 2580, Loss 0.0027761757373809814\n",
            "Step 2590, Loss 0.0003228485584259033\n",
            "Step 2600, Loss 0.03380247950553894\n",
            "Starting epoch 30/30, LR = [0.001]\n",
            "Step 2610, Loss 8.431077003479004e-05\n",
            "Step 2620, Loss 0.0011214017868041992\n",
            "Step 2630, Loss 4.3064355850219727e-05\n",
            "Step 2640, Loss 0.000399172306060791\n",
            "Step 2650, Loss 4.035234451293945e-05\n",
            "Step 2660, Loss 9.620189666748047e-05\n",
            "Step 2670, Loss 0.00026345252990722656\n",
            "Step 2680, Loss 0.00015079975128173828\n",
            "Step 2690, Loss 0.000611722469329834\n"
          ],
          "name": "stdout"
        }
      ]
    },
    {
      "cell_type": "code",
      "metadata": {
        "id": "nJyQMDV9jjum",
        "colab_type": "code",
        "outputId": "fc781c79-ad71-489b-cda2-8712c308d9ff",
        "colab": {
          "base_uri": "https://localhost:8080/",
          "height": 475
        }
      },
      "source": [
        "plt.figure(figsize=FIG_SIZE)\n",
        "plt.plot(range(NUM_EPOCHS),losses_val,marker='o')\n",
        "\n",
        "plt.title(\"Loss on validation set for each Epoch\")\n",
        "plt.xlabel(\"Epoch\")\n",
        "plt.ylabel(\"Loss\")"
      ],
      "execution_count": 12,
      "outputs": [
        {
          "output_type": "execute_result",
          "data": {
            "text/plain": [
              "Text(0, 0.5, 'Loss')"
            ]
          },
          "metadata": {
            "tags": []
          },
          "execution_count": 12
        },
        {
          "output_type": "display_data",
          "data": {
            "image/png": "[encoded data removed]",
            "text/plain": [
              "<Figure size 720x504 with 1 Axes>"
            ]
          },
          "metadata": {
            "tags": [],
            "needs_background": "light"
          }
        }
      ]
    },
    {
      "cell_type": "markdown",
      "metadata": {
        "id": "UsHFI-GAJd69",
        "colab_type": "text"
      },
      "source": [
        "**Validation**"
      ]
    },
    {
      "cell_type": "code",
      "metadata": {
        "id": "EO3HV5pqJg1o",
        "colab_type": "code",
        "outputId": "12026026-5934-40f1-82f5-c9ca3417b2d6",
        "colab": {
          "base_uri": "https://localhost:8080/",
          "height": 51
        }
      },
      "source": [
        "net.load_state_dict(best_net)\n",
        "net = net.to(DEVICE) # this will bring the network to GPU if DEVICE is cuda\n",
        "net.train(False) # Set Network to evaluation mode\n",
        "\n",
        "running_corrects = 0\n",
        "for images, labels in tqdm(val_dataloader):\n",
        "  images = images.to(DEVICE)\n",
        "  labels = labels.to(DEVICE)\n",
        "\n",
        "  # Forward Pass\n",
        "  outputs = net(images)\n",
        "\n",
        "  # Get predictions\n",
        "  _, preds = torch.max(outputs.data, 1)\n",
        "\n",
        "  # Update Corrects\n",
        "  running_corrects += torch.sum(preds == labels.data).data.item()\n",
        "\n",
        "# Calculate Accuracy\n",
        "accuracy = running_corrects / float(len(val_dataset))\n",
        "\n",
        "print('Validation Accuracy: {}'.format(accuracy))"
      ],
      "execution_count": 13,
      "outputs": [
        {
          "output_type": "stream",
          "text": [
            "100%|██████████| 91/91 [00:16<00:00,  5.59it/s]"
          ],
          "name": "stderr"
        },
        {
          "output_type": "stream",
          "text": [
            "Validation Accuracy: 0.8672199170124482\n"
          ],
          "name": "stdout"
        },
        {
          "output_type": "stream",
          "text": [
            "\n"
          ],
          "name": "stderr"
        }
      ]
    },
    {
      "cell_type": "markdown",
      "metadata": {
        "id": "jxekmR745ySe",
        "colab_type": "text"
      },
      "source": [
        "**Test**"
      ]
    },
    {
      "cell_type": "code",
      "metadata": {
        "id": "fSHcUqLB5yWO",
        "colab_type": "code",
        "outputId": "002cb88e-0910-4861-bb9e-f3afa849ccd5",
        "colab": {
          "base_uri": "https://localhost:8080/",
          "height": 51
        }
      },
      "source": [
        "net = net.to(DEVICE) # this will bring the network to GPU if DEVICE is cuda\n",
        "net.train(False) # Set Network to evaluation mode\n",
        "\n",
        "running_corrects = 0\n",
        "for images, labels in tqdm(test_dataloader):\n",
        "  images = images.to(DEVICE)\n",
        "  labels = labels.to(DEVICE)\n",
        "\n",
        "  # Forward Pass\n",
        "  outputs = net(images)\n",
        "\n",
        "  # Get predictions\n",
        "  _, preds = torch.max(outputs.data, 1)\n",
        "\n",
        "  # Update Corrects\n",
        "  running_corrects += torch.sum(preds == labels.data).data.item()\n",
        "\n",
        "# Calculate Accuracy\n",
        "accuracy = running_corrects / float(len(test_dataset))\n",
        "\n",
        "print('Test Accuracy: {}'.format(accuracy))"
      ],
      "execution_count": 14,
      "outputs": [
        {
          "output_type": "stream",
          "text": [
            "100%|██████████| 91/91 [00:16<00:00,  5.65it/s]"
          ],
          "name": "stderr"
        },
        {
          "output_type": "stream",
          "text": [
            "Test Accuracy: 0.8575872796405116\n"
          ],
          "name": "stdout"
        },
        {
          "output_type": "stream",
          "text": [
            "\n"
          ],
          "name": "stderr"
        }
      ]
    },
    {
      "cell_type": "code",
      "metadata": {
        "id": "6nTwQel9OgeV",
        "colab_type": "code",
        "colab": {}
      },
      "source": [
        ""
      ],
      "execution_count": 0,
      "outputs": []
    }
  ]
}